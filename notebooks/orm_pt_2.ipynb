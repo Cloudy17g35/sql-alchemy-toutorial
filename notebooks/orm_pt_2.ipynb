{
 "cells": [
  {
   "cell_type": "markdown",
   "metadata": {},
   "source": [
    "In the previous article about SQLAlchemy https://blog.devgenius.io/sqlalchemy-tutorial-pt-1-a5d0967eeb07 we disscussed basics of ORM. Now we re going to explain more advanced stuff like:\n",
    "\n",
    "* joins\n",
    "* relataionships"
   ]
  },
  {
   "cell_type": "markdown",
   "metadata": {},
   "source": [
    "# IMPORTS"
   ]
  },
  {
   "cell_type": "code",
   "execution_count": 11,
   "metadata": {},
   "outputs": [],
   "source": [
    "from sqlalchemy import Column, Integer, String, Float\n",
    "from sqlalchemy.ext.declarative import declarative_base\n",
    "from sqlalchemy import create_engine\n",
    "from sqlalchemy.orm import sessionmaker\n",
    "from sqlalchemy.orm import relationship"
   ]
  },
  {
   "cell_type": "markdown",
   "metadata": {},
   "source": [
    "## CONNECTION PARAMS"
   ]
  },
  {
   "cell_type": "code",
   "execution_count": 9,
   "metadata": {},
   "outputs": [],
   "source": [
    "SQL_DIALECT = 'postgresql'\n",
    "DRIVER = 'psycopg2'\n",
    "USER = 'example'\n",
    "PASSWORD = 'example'\n",
    "SERVER = 'postgres'\n",
    "HOST = 'localhost'\n",
    "DATABASE = 'example'\n",
    "PORT = '5432'\n",
    "CONNECTION_URL = f'{SQL_DIALECT}+{DRIVER}://{USER}:{PASSWORD}@{HOST}:{PORT}/{DATABASE}'"
   ]
  },
  {
   "cell_type": "markdown",
   "metadata": {},
   "source": [
    "Let's create two classes which will become tables in our database.One ot them will be the one which we used previously Orders. New thing will be adding relationship with Product (second class which will be created)."
   ]
  },
  {
   "cell_type": "code",
   "execution_count": 14,
   "metadata": {},
   "outputs": [],
   "source": [
    "from sqlalchemy import ForeignKey\n",
    "\n",
    "\n",
    "Base = declarative_base()\n",
    "\n",
    "class Order(Base):\n",
    "\n",
    "    __tablename__ = \"orders\"\n",
    "\n",
    "    id = Column(Integer, primary_key=True)\n",
    "    price = Column(Float)\n",
    "    amount = Column(Integer)\n",
    "    product_id = Column(Integer)\n",
    "\n",
    "    products = relationship('Product', back_populates='orders')\n",
    "\n",
    "\n",
    "class Product(Base):\n",
    "    __tablename__ = \"products\"\n",
    "    id = Column(Integer, primary_key=True)\n",
    "    product_id = Column(ForeignKey('order.product_id'), nullable=False)\n",
    "    product_name = Column(String)\n",
    "    product_category = Column(String)\n",
    "\n",
    "    order = relationship(\"Order\", back_populates='products')\n",
    "\n",
    "    def __repr__(self):\n",
    "        return f\"\"\"<Product(product_name='{self.product_name}', product_category='{self.product_category}'\"\"\""
   ]
  },
  {
   "cell_type": "code",
   "execution_count": null,
   "metadata": {},
   "outputs": [],
   "source": []
  }
 ],
 "metadata": {
  "kernelspec": {
   "display_name": "Python 3.7.13 64-bit ('venv')",
   "language": "python",
   "name": "python3"
  },
  "language_info": {
   "codemirror_mode": {
    "name": "ipython",
    "version": 3
   },
   "file_extension": ".py",
   "mimetype": "text/x-python",
   "name": "python",
   "nbconvert_exporter": "python",
   "pygments_lexer": "ipython3",
   "version": "3.7.13"
  },
  "orig_nbformat": 4,
  "vscode": {
   "interpreter": {
    "hash": "e849d7583155caee868f00d2881d201e44ea3bb03a32064bd368368d31d60603"
   }
  }
 },
 "nbformat": 4,
 "nbformat_minor": 2
}
